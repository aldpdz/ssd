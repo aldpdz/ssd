{
 "cells": [
  {
   "cell_type": "code",
   "execution_count": 57,
   "metadata": {},
   "outputs": [],
   "source": [
    "import seaborn as sns\n",
    "import numpy as np\n",
    "import helper as hp\n",
    "import pandas as pd\n",
    "import matplotlib.pyplot as plt\n",
    "import os.path\n",
    "import json"
   ]
  },
  {
   "cell_type": "code",
   "execution_count": 2,
   "metadata": {},
   "outputs": [],
   "source": [
    "path_data = '../../data-cic/'\n",
    "absolute_path = os.path.abspath(os.path.dirname('__file__'))\n",
    "path_data = os.path.join(absolute_path, path_data)"
   ]
  },
  {
   "cell_type": "code",
   "execution_count": 3,
   "metadata": {},
   "outputs": [],
   "source": [
    "# Read json that contains bounding boxes from each image\n",
    "with open(path_data + 'via_region_data _final.json', 'r') as json_file:\n",
    "    dict_json = json.load(json_file)\n",
    "clean_json = hp.clean_dict(dict_json)"
   ]
  },
  {
   "cell_type": "code",
   "execution_count": 4,
   "metadata": {},
   "outputs": [],
   "source": [
    "# Get all bounding boxes\n",
    "\n",
    "bounding_boxes = []\n",
    "# Get images' names\n",
    "keys = list(clean_json.keys())\n",
    "# Iterate over all images' name\n",
    "for name_img in keys:\n",
    "    # Get bb from the image\n",
    "    bb_list = hp.get_ground_truth(clean_json[name_img])\n",
    "    \n",
    "    for bb in bb_list:\n",
    "        # Calculate area of bounding box\n",
    "        bb.append(bb[0] + (bb[2] // 2)) # center coordinate x\n",
    "        bb.append(bb[1] + (bb[3] // 2)) # center coordinate y\n",
    "        bb.append((bb[2] + 1) * (bb[3] + 1)) # area of bounding box\n",
    "        bounding_boxes.append(bb)"
   ]
  },
  {
   "cell_type": "code",
   "execution_count": 5,
   "metadata": {},
   "outputs": [],
   "source": [
    "bounding_boxes = np.array(bounding_boxes)\n",
    "columns = ['Coordinate x', 'Coordinate y', 'Width', 'Height', 'Center x', 'Center y', 'Area']"
   ]
  },
  {
   "cell_type": "code",
   "execution_count": 6,
   "metadata": {},
   "outputs": [
    {
     "name": "stdout",
     "output_type": "stream",
     "text": [
      "(768, 7)\n"
     ]
    }
   ],
   "source": [
    "# Create DataFrame for seabron\n",
    "data = pd.DataFrame(bounding_boxes, columns=columns)\n",
    "print(data.shape)"
   ]
  },
  {
   "cell_type": "markdown",
   "metadata": {},
   "source": [
    "## Display some bounding boxes"
   ]
  },
  {
   "cell_type": "code",
   "execution_count": 7,
   "metadata": {
    "scrolled": true
   },
   "outputs": [
    {
     "data": {
      "text/html": [
       "<div>\n",
       "<style scoped>\n",
       "    .dataframe tbody tr th:only-of-type {\n",
       "        vertical-align: middle;\n",
       "    }\n",
       "\n",
       "    .dataframe tbody tr th {\n",
       "        vertical-align: top;\n",
       "    }\n",
       "\n",
       "    .dataframe thead th {\n",
       "        text-align: right;\n",
       "    }\n",
       "</style>\n",
       "<table border=\"1\" class=\"dataframe\">\n",
       "  <thead>\n",
       "    <tr style=\"text-align: right;\">\n",
       "      <th></th>\n",
       "      <th>Coordinate x</th>\n",
       "      <th>Coordinate y</th>\n",
       "      <th>Width</th>\n",
       "      <th>Height</th>\n",
       "      <th>Center x</th>\n",
       "      <th>Center y</th>\n",
       "      <th>Area</th>\n",
       "    </tr>\n",
       "  </thead>\n",
       "  <tbody>\n",
       "    <tr>\n",
       "      <th>0</th>\n",
       "      <td>1434</td>\n",
       "      <td>233</td>\n",
       "      <td>313</td>\n",
       "      <td>842</td>\n",
       "      <td>1590</td>\n",
       "      <td>654</td>\n",
       "      <td>264702</td>\n",
       "    </tr>\n",
       "    <tr>\n",
       "      <th>1</th>\n",
       "      <td>1237</td>\n",
       "      <td>258</td>\n",
       "      <td>296</td>\n",
       "      <td>744</td>\n",
       "      <td>1385</td>\n",
       "      <td>630</td>\n",
       "      <td>221265</td>\n",
       "    </tr>\n",
       "    <tr>\n",
       "      <th>2</th>\n",
       "      <td>1518</td>\n",
       "      <td>258</td>\n",
       "      <td>245</td>\n",
       "      <td>624</td>\n",
       "      <td>1640</td>\n",
       "      <td>570</td>\n",
       "      <td>153750</td>\n",
       "    </tr>\n",
       "    <tr>\n",
       "      <th>3</th>\n",
       "      <td>458</td>\n",
       "      <td>150</td>\n",
       "      <td>119</td>\n",
       "      <td>562</td>\n",
       "      <td>517</td>\n",
       "      <td>431</td>\n",
       "      <td>67560</td>\n",
       "    </tr>\n",
       "    <tr>\n",
       "      <th>4</th>\n",
       "      <td>226</td>\n",
       "      <td>209</td>\n",
       "      <td>238</td>\n",
       "      <td>565</td>\n",
       "      <td>345</td>\n",
       "      <td>491</td>\n",
       "      <td>135274</td>\n",
       "    </tr>\n",
       "  </tbody>\n",
       "</table>\n",
       "</div>"
      ],
      "text/plain": [
       "   Coordinate x  Coordinate y  Width  Height  Center x  Center y    Area\n",
       "0          1434           233    313     842      1590       654  264702\n",
       "1          1237           258    296     744      1385       630  221265\n",
       "2          1518           258    245     624      1640       570  153750\n",
       "3           458           150    119     562       517       431   67560\n",
       "4           226           209    238     565       345       491  135274"
      ]
     },
     "execution_count": 7,
     "metadata": {},
     "output_type": "execute_result"
    }
   ],
   "source": [
    "data.head()"
   ]
  },
  {
   "cell_type": "markdown",
   "metadata": {},
   "source": [
    "## Data info"
   ]
  },
  {
   "cell_type": "code",
   "execution_count": 8,
   "metadata": {},
   "outputs": [
    {
     "name": "stdout",
     "output_type": "stream",
     "text": [
      "<class 'pandas.core.frame.DataFrame'>\n",
      "RangeIndex: 768 entries, 0 to 767\n",
      "Data columns (total 7 columns):\n",
      "Coordinate x    768 non-null int64\n",
      "Coordinate y    768 non-null int64\n",
      "Width           768 non-null int64\n",
      "Height          768 non-null int64\n",
      "Center x        768 non-null int64\n",
      "Center y        768 non-null int64\n",
      "Area            768 non-null int64\n",
      "dtypes: int64(7)\n",
      "memory usage: 42.1 KB\n"
     ]
    }
   ],
   "source": [
    "data.info()"
   ]
  },
  {
   "cell_type": "code",
   "execution_count": 9,
   "metadata": {
    "scrolled": true
   },
   "outputs": [
    {
     "data": {
      "text/html": [
       "<div>\n",
       "<style scoped>\n",
       "    .dataframe tbody tr th:only-of-type {\n",
       "        vertical-align: middle;\n",
       "    }\n",
       "\n",
       "    .dataframe tbody tr th {\n",
       "        vertical-align: top;\n",
       "    }\n",
       "\n",
       "    .dataframe thead th {\n",
       "        text-align: right;\n",
       "    }\n",
       "</style>\n",
       "<table border=\"1\" class=\"dataframe\">\n",
       "  <thead>\n",
       "    <tr style=\"text-align: right;\">\n",
       "      <th></th>\n",
       "      <th>Coordinate x</th>\n",
       "      <th>Coordinate y</th>\n",
       "      <th>Width</th>\n",
       "      <th>Height</th>\n",
       "      <th>Center x</th>\n",
       "      <th>Center y</th>\n",
       "      <th>Area</th>\n",
       "    </tr>\n",
       "  </thead>\n",
       "  <tbody>\n",
       "    <tr>\n",
       "      <th>count</th>\n",
       "      <td>768.000000</td>\n",
       "      <td>768.000000</td>\n",
       "      <td>768.000000</td>\n",
       "      <td>768.000000</td>\n",
       "      <td>768.000000</td>\n",
       "      <td>768.000000</td>\n",
       "      <td>7.680000e+02</td>\n",
       "    </tr>\n",
       "    <tr>\n",
       "      <th>mean</th>\n",
       "      <td>679.699219</td>\n",
       "      <td>472.278646</td>\n",
       "      <td>154.248698</td>\n",
       "      <td>397.480469</td>\n",
       "      <td>756.570312</td>\n",
       "      <td>670.772135</td>\n",
       "      <td>8.421060e+04</td>\n",
       "    </tr>\n",
       "    <tr>\n",
       "      <th>std</th>\n",
       "      <td>441.560749</td>\n",
       "      <td>203.893479</td>\n",
       "      <td>103.767777</td>\n",
       "      <td>236.236605</td>\n",
       "      <td>436.932418</td>\n",
       "      <td>222.049007</td>\n",
       "      <td>1.156063e+05</td>\n",
       "    </tr>\n",
       "    <tr>\n",
       "      <th>min</th>\n",
       "      <td>1.000000</td>\n",
       "      <td>1.000000</td>\n",
       "      <td>21.000000</td>\n",
       "      <td>71.000000</td>\n",
       "      <td>38.000000</td>\n",
       "      <td>150.000000</td>\n",
       "      <td>1.584000e+03</td>\n",
       "    </tr>\n",
       "    <tr>\n",
       "      <th>25%</th>\n",
       "      <td>325.500000</td>\n",
       "      <td>340.000000</td>\n",
       "      <td>86.750000</td>\n",
       "      <td>238.000000</td>\n",
       "      <td>406.500000</td>\n",
       "      <td>505.000000</td>\n",
       "      <td>2.077725e+04</td>\n",
       "    </tr>\n",
       "    <tr>\n",
       "      <th>50%</th>\n",
       "      <td>639.500000</td>\n",
       "      <td>453.000000</td>\n",
       "      <td>125.000000</td>\n",
       "      <td>342.000000</td>\n",
       "      <td>716.500000</td>\n",
       "      <td>667.000000</td>\n",
       "      <td>4.258100e+04</td>\n",
       "    </tr>\n",
       "    <tr>\n",
       "      <th>75%</th>\n",
       "      <td>962.750000</td>\n",
       "      <td>636.250000</td>\n",
       "      <td>198.000000</td>\n",
       "      <td>524.500000</td>\n",
       "      <td>1012.750000</td>\n",
       "      <td>838.250000</td>\n",
       "      <td>1.037400e+05</td>\n",
       "    </tr>\n",
       "    <tr>\n",
       "      <th>max</th>\n",
       "      <td>1835.000000</td>\n",
       "      <td>1374.000000</td>\n",
       "      <td>726.000000</td>\n",
       "      <td>1492.000000</td>\n",
       "      <td>1869.000000</td>\n",
       "      <td>1470.000000</td>\n",
       "      <td>1.077946e+06</td>\n",
       "    </tr>\n",
       "  </tbody>\n",
       "</table>\n",
       "</div>"
      ],
      "text/plain": [
       "       Coordinate x  Coordinate y       Width       Height     Center x  \\\n",
       "count    768.000000    768.000000  768.000000   768.000000   768.000000   \n",
       "mean     679.699219    472.278646  154.248698   397.480469   756.570312   \n",
       "std      441.560749    203.893479  103.767777   236.236605   436.932418   \n",
       "min        1.000000      1.000000   21.000000    71.000000    38.000000   \n",
       "25%      325.500000    340.000000   86.750000   238.000000   406.500000   \n",
       "50%      639.500000    453.000000  125.000000   342.000000   716.500000   \n",
       "75%      962.750000    636.250000  198.000000   524.500000  1012.750000   \n",
       "max     1835.000000   1374.000000  726.000000  1492.000000  1869.000000   \n",
       "\n",
       "          Center y          Area  \n",
       "count   768.000000  7.680000e+02  \n",
       "mean    670.772135  8.421060e+04  \n",
       "std     222.049007  1.156063e+05  \n",
       "min     150.000000  1.584000e+03  \n",
       "25%     505.000000  2.077725e+04  \n",
       "50%     667.000000  4.258100e+04  \n",
       "75%     838.250000  1.037400e+05  \n",
       "max    1470.000000  1.077946e+06  "
      ]
     },
     "execution_count": 9,
     "metadata": {},
     "output_type": "execute_result"
    }
   ],
   "source": [
    "data.describe()"
   ]
  },
  {
   "cell_type": "markdown",
   "metadata": {},
   "source": [
    "## Width and height histograms"
   ]
  },
  {
   "cell_type": "code",
   "execution_count": 70,
   "metadata": {},
   "outputs": [
    {
     "data": {
      "text/plain": [
       "<matplotlib.axes._subplots.AxesSubplot at 0x7f1d7974e860>"
      ]
     },
     "execution_count": 70,
     "metadata": {},
     "output_type": "execute_result"
    },
    {
     "data": {
      "image/png": "[encoded data removed]",
      "text/plain": [
       "<Figure size 842.4x595.44 with 1 Axes>"
      ]
     },
     "metadata": {},
     "output_type": "display_data"
    }
   ],
   "source": [
    "sns.distplot(data['Width'], kde=False, bins=30)"
   ]
  },
  {
   "cell_type": "code",
   "execution_count": 71,
   "metadata": {},
   "outputs": [
    {
     "data": {
      "text/plain": [
       "<matplotlib.axes._subplots.AxesSubplot at 0x7f1d7978ac88>"
      ]
     },
     "execution_count": 71,
     "metadata": {},
     "output_type": "execute_result"
    },
    {
     "data": {
      "image/png": "[encoded data removed]",
      "text/plain": [
       "<Figure size 842.4x595.44 with 1 Axes>"
      ]
     },
     "metadata": {},
     "output_type": "display_data"
    }
   ],
   "source": [
    "sns.distplot(data['Height'], kde=False, bins=30)"
   ]
  },
  {
   "cell_type": "markdown",
   "metadata": {},
   "source": [
    "## Comparison between width and height"
   ]
  },
  {
   "cell_type": "code",
   "execution_count": 123,
   "metadata": {
    "scrolled": true
   },
   "outputs": [
    {
     "data": {
      "text/plain": [
       "<matplotlib.legend.Legend at 0x7f1d6ec94400>"
      ]
     },
     "execution_count": 123,
     "metadata": {},
     "output_type": "execute_result"
    },
    {
     "data": {
      "image/png": "[encoded data removed]",
      "text/plain": [
       "<Figure size 1008x864 with 1 Axes>"
      ]
     },
     "metadata": {},
     "output_type": "display_data"
    }
   ],
   "source": [
    "fig, ax = plt.subplots(figsize=(14, 12))\n",
    "\n",
    "# Add max and min to have equal bins\n",
    "width_data = pd.concat([data['Width'], pd.Series([data['Height'].max()])])\n",
    "height_data = pd.concat([data['Height'], pd.Series([data['Width'].min()])])\n",
    "\n",
    "sns.distplot(height_data, kde=False, bins=30, label='alto')\n",
    "sns.distplot(width_data, kde=False, bins=30, label='ancho')\n",
    "plt.legend()\n",
    "# file.figure.savefig('/tmp/two_distribution.png')\n"
   ]
  },
  {
   "cell_type": "markdown",
   "metadata": {},
   "source": [
    "## Area histogram"
   ]
  },
  {
   "cell_type": "code",
   "execution_count": 41,
   "metadata": {},
   "outputs": [
    {
     "data": {
      "text/plain": [
       "<matplotlib.axes._subplots.AxesSubplot at 0x7f1d813719b0>"
      ]
     },
     "execution_count": 41,
     "metadata": {},
     "output_type": "execute_result"
    },
    {
     "data": {
      "image/png": "[encoded data removed]",
      "text/plain": [
       "<Figure size 432x288 with 1 Axes>"
      ]
     },
     "metadata": {},
     "output_type": "display_data"
    }
   ],
   "source": [
    "sns.distplot(data['Area'], bins=50, kde=False)"
   ]
  },
  {
   "cell_type": "code",
   "execution_count": 14,
   "metadata": {},
   "outputs": [],
   "source": [
    "# file.figure.savefig('prueba.png')"
   ]
  },
  {
   "cell_type": "markdown",
   "metadata": {},
   "source": [
    "## Size Distribution"
   ]
  },
  {
   "cell_type": "code",
   "execution_count": 46,
   "metadata": {},
   "outputs": [
    {
     "name": "stderr",
     "output_type": "stream",
     "text": [
      "/home/aldopedraza/anaconda3/envs/tensorflow/lib/python3.6/site-packages/scipy/stats/stats.py:1713: FutureWarning: Using a non-tuple sequence for multidimensional indexing is deprecated; use `arr[tuple(seq)]` instead of `arr[seq]`. In the future this will be interpreted as an array index, `arr[np.array(seq)]`, which will result either in an error or a different result.\n",
      "  return np.add.reduce(sorted[indexer] * weights, axis=axis) / sumval\n"
     ]
    },
    {
     "data": {
      "image/png": "[encoded data removed]",
      "text/plain": [
       "<Figure size 432x432 with 3 Axes>"
      ]
     },
     "metadata": {},
     "output_type": "display_data"
    }
   ],
   "source": [
    "plot = sns.jointplot(x='Width', y='Height', data=data, kind='scatter', xlim=(0, 1920), ylim=(0, 1920))"
   ]
  },
  {
   "cell_type": "markdown",
   "metadata": {},
   "source": [
    "## Gathering bounding boxes"
   ]
  },
  {
   "cell_type": "code",
   "execution_count": 47,
   "metadata": {},
   "outputs": [
    {
     "name": "stderr",
     "output_type": "stream",
     "text": [
      "/home/aldopedraza/anaconda3/envs/tensorflow/lib/python3.6/site-packages/scipy/stats/stats.py:1713: FutureWarning: Using a non-tuple sequence for multidimensional indexing is deprecated; use `arr[tuple(seq)]` instead of `arr[seq]`. In the future this will be interpreted as an array index, `arr[np.array(seq)]`, which will result either in an error or a different result.\n",
      "  return np.add.reduce(sorted[indexer] * weights, axis=axis) / sumval\n"
     ]
    },
    {
     "data": {
      "text/plain": [
       "<seaborn.axisgrid.JointGrid at 0x7f1d7f34f358>"
      ]
     },
     "execution_count": 47,
     "metadata": {},
     "output_type": "execute_result"
    },
    {
     "data": {
      "image/png": "[encoded data removed]",
      "text/plain": [
       "<Figure size 432x432 with 3 Axes>"
      ]
     },
     "metadata": {},
     "output_type": "display_data"
    }
   ],
   "source": [
    "# sns.jointplot(x='Width', y='Height', data=data, kind='kdeplot')\n",
    "sns.jointplot(x='Width', y='Height', data=data, kind='hex', xlim=(0, 1920), ylim=(0, 1920))"
   ]
  },
  {
   "cell_type": "markdown",
   "metadata": {},
   "source": [
    "## Position Distribution"
   ]
  },
  {
   "cell_type": "code",
   "execution_count": 50,
   "metadata": {},
   "outputs": [
    {
     "name": "stderr",
     "output_type": "stream",
     "text": [
      "/home/aldopedraza/anaconda3/envs/tensorflow/lib/python3.6/site-packages/scipy/stats/stats.py:1713: FutureWarning: Using a non-tuple sequence for multidimensional indexing is deprecated; use `arr[tuple(seq)]` instead of `arr[seq]`. In the future this will be interpreted as an array index, `arr[np.array(seq)]`, which will result either in an error or a different result.\n",
      "  return np.add.reduce(sorted[indexer] * weights, axis=axis) / sumval\n"
     ]
    },
    {
     "data": {
      "text/plain": [
       "<seaborn.axisgrid.JointGrid at 0x7f1d7f02b160>"
      ]
     },
     "execution_count": 50,
     "metadata": {},
     "output_type": "execute_result"
    },
    {
     "data": {
      "image/png": "[encoded data removed]",
      "text/plain": [
       "<Figure size 432x432 with 3 Axes>"
      ]
     },
     "metadata": {},
     "output_type": "display_data"
    }
   ],
   "source": [
    "sns.jointplot(x='Center x', y='Center y', data=data, kind='scatter', xlim=(0, 1920), ylim=(0, 1920))"
   ]
  }
 ],
 "metadata": {
  "kernelspec": {
   "display_name": "Python [conda env:tensorflow]",
   "language": "python",
   "name": "conda-env-tensorflow-py"
  },
  "language_info": {
   "codemirror_mode": {
    "name": "ipython",
    "version": 3
   },
   "file_extension": ".py",
   "mimetype": "text/x-python",
   "name": "python",
   "nbconvert_exporter": "python",
   "pygments_lexer": "ipython3",
   "version": "3.6.4"
  }
 },
 "nbformat": 4,
 "nbformat_minor": 2
}
